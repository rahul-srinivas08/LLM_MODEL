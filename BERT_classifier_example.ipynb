{
 "cells": [
  {
   "cell_type": "code",
   "execution_count": 1,
   "id": "4f18f637",
   "metadata": {},
   "outputs": [],
   "source": [
    "import torch\n",
    "from torch.utils.data import TensorDataset, DataLoader, RandomSampler, SequentialSampler\n",
    "from transformers import BertTokenizer, BertForSequenceClassification\n",
    "from sklearn.model_selection import train_test_split\n",
    "\n",
    "import pandas as pd\n",
    "import numpy as np\n",
    "\n",
    "from tabulate import tabulate\n",
    "from tqdm import trange\n",
    "import random"
   ]
  },
  {
   "cell_type": "code",
   "execution_count": 2,
   "id": "b74e0bc2",
   "metadata": {},
   "outputs": [
    {
     "name": "stderr",
     "output_type": "stream",
     "text": [
      "/tmp/ipykernel_109/530078321.py:2: DtypeWarning: Columns (28,29) have mixed types. Specify dtype option on import or set low_memory=False.\n",
      "  df = pd.read_csv(file_path)\n",
      "/tmp/ipykernel_109/530078321.py:8: UserWarning: Boolean Series key will be reindexed to match DataFrame index.\n",
      "  training_df = training_df[df['Label'] != 'Localizer']\n"
     ]
    }
   ],
   "source": [
    "file_path = './metadata_info/MR_data.csv'\n",
    "df = pd.read_csv(file_path)\n",
    "df = df.fillna(0)\n",
    "\n",
    "training_df = df[df['Label'] != 'Unknown'][['Label', 'EchoTime', 'RepetitionTime', 'InversionTime', 'Rows', 'Columns', 'Image Plane',\n",
    "                                            'Manufacturer', 'PixelSpacing', 'FlipAngle', 'SliceThickness']]\n",
    "\n",
    "training_df = training_df[df['Label'] != 'Localizer']\n",
    "\n"
   ]
  },
  {
   "cell_type": "code",
   "execution_count": 3,
   "id": "aab13722",
   "metadata": {},
   "outputs": [],
   "source": [
    "#training_df['Text'] = training_df.apply(lambda row: f'The Echo Time is {num2words(round(row[\"EchoTime\"], 2))} ms. The Repetition Time is {num2words(round(row[\"RepetitionTime\"], 2))} ms.', axis=1)\n",
    "\n",
    "training_df['Text'] = training_df.apply(lambda row: f'The Echo Time is {round(row[\"EchoTime\"], 2)} ms. The Repetition Time is {round(row[\"RepetitionTime\"], 2)} ms.', axis=1)\n"
   ]
  },
  {
   "cell_type": "code",
   "execution_count": 4,
   "id": "b17fc3cf",
   "metadata": {},
   "outputs": [
    {
     "name": "stdout",
     "output_type": "stream",
     "text": [
      "{'T1': 0, 'T2': 1, 'DWI': 2, 'ADC': 3, 'T1 CE': 4, 'T2 FLAIR': 5, 'T2 FS': 6, 'DTI': 7, 'PD': 8}\n"
     ]
    }
   ],
   "source": [
    "unique_labels = training_df['Label'].unique()\n",
    "label_mapping = {label: i for i, label in enumerate(unique_labels)}\n",
    "training_df['Label_ID'] = training_df['Label'].replace(label_mapping)\n",
    "\n",
    "print(label_mapping)\n",
    "\n",
    "texts = training_df.Text.values\n",
    "labels = training_df.Label_ID.values"
   ]
  },
  {
   "cell_type": "code",
   "execution_count": 5,
   "id": "3727d2cd",
   "metadata": {},
   "outputs": [
    {
     "name": "stderr",
     "output_type": "stream",
     "text": [
      "Some weights of the model checkpoint at bert-base-uncased were not used when initializing BertForSequenceClassification: ['cls.predictions.transform.LayerNorm.weight', 'cls.seq_relationship.weight', 'cls.predictions.bias', 'cls.predictions.transform.LayerNorm.bias', 'cls.predictions.transform.dense.weight', 'cls.seq_relationship.bias', 'cls.predictions.transform.dense.bias', 'cls.predictions.decoder.weight']\n",
      "- This IS expected if you are initializing BertForSequenceClassification from the checkpoint of a model trained on another task or with another architecture (e.g. initializing a BertForSequenceClassification model from a BertForPreTraining model).\n",
      "- This IS NOT expected if you are initializing BertForSequenceClassification from the checkpoint of a model that you expect to be exactly identical (initializing a BertForSequenceClassification model from a BertForSequenceClassification model).\n",
      "Some weights of BertForSequenceClassification were not initialized from the model checkpoint at bert-base-uncased and are newly initialized: ['classifier.bias', 'classifier.weight']\n",
      "You should probably TRAIN this model on a down-stream task to be able to use it for predictions and inference.\n",
      "/usr/local/lib/python3.8/dist-packages/transformers/optimization.py:306: FutureWarning: This implementation of AdamW is deprecated and will be removed in a future version. Use the PyTorch implementation torch.optim.AdamW instead, or set `no_deprecation_warning=True` to disable this warning\n",
      "  warnings.warn(\n"
     ]
    },
    {
     "name": "stdout",
     "output_type": "stream",
     "text": [
      "Epoch 1/5\n",
      "Train Loss: 1.2165\n",
      "Validation Loss: 0.7977\n",
      "Validation Accuracy: 0.7296\n",
      "\n",
      "Epoch 2/5\n",
      "Train Loss: 0.6986\n",
      "Validation Loss: 0.5676\n",
      "Validation Accuracy: 0.8100\n",
      "\n",
      "Epoch 3/5\n",
      "Train Loss: 0.5448\n",
      "Validation Loss: 0.4718\n",
      "Validation Accuracy: 0.8309\n",
      "\n",
      "Epoch 4/5\n",
      "Train Loss: 0.4560\n",
      "Validation Loss: 0.4514\n",
      "Validation Accuracy: 0.8434\n",
      "\n",
      "Epoch 5/5\n",
      "Train Loss: 0.3825\n",
      "Validation Loss: 0.4529\n",
      "Validation Accuracy: 0.8549\n",
      "\n"
     ]
    }
   ],
   "source": [
    "import numpy as np\n",
    "import torch\n",
    "from torch.utils.data import Dataset, DataLoader\n",
    "from transformers import BertForSequenceClassification, BertTokenizer, AdamW\n",
    "\n",
    "# Set the seed for reproducibility\n",
    "torch.manual_seed(42)\n",
    "\n",
    "# Initialize the BERT tokenizer and model\n",
    "tokenizer = BertTokenizer.from_pretrained(\"bert-base-uncased\")\n",
    "model = BertForSequenceClassification.from_pretrained(\"bert-base-uncased\", num_labels=9)  # Adjust `num_labels` based on your task\n",
    "\n",
    "# Tokenize the texts and convert labels to torch tensors\n",
    "encoded_inputs = tokenizer(texts.tolist(), truncation=True, padding=True, return_tensors=\"pt\")\n",
    "labels = torch.tensor(labels)\n",
    "\n",
    "# Create a custom PyTorch dataset\n",
    "class CustomDataset(Dataset):\n",
    "    def __init__(self, encodings, labels):\n",
    "        self.encodings = encodings\n",
    "        self.labels = labels\n",
    "    \n",
    "    def __getitem__(self, idx):\n",
    "        item = {key: val[idx] for key, val in self.encodings.items()}\n",
    "        item[\"labels\"] = self.labels[idx]\n",
    "        return item\n",
    "    \n",
    "    def __len__(self):\n",
    "        return len(self.labels)\n",
    "\n",
    "dataset = CustomDataset(encoded_inputs, labels)\n",
    "\n",
    "# Split the dataset into train and validation sets\n",
    "train_size = int(0.8 * len(dataset))\n",
    "val_size = len(dataset) - train_size\n",
    "train_dataset, val_dataset = torch.utils.data.random_split(dataset, [train_size, val_size])\n",
    "\n",
    "# Define the data loaders\n",
    "train_loader = DataLoader(train_dataset, batch_size=8, shuffle=True)\n",
    "val_loader = DataLoader(val_dataset, batch_size=8)\n",
    "\n",
    "# Set the device (CPU or GPU)\n",
    "device = torch.device(\"cuda\" if torch.cuda.is_available() else \"cpu\")\n",
    "model.to(device)\n",
    "\n",
    "# Define the optimizer and learning rate\n",
    "optimizer = AdamW(model.parameters(), lr=1e-5)\n",
    "\n",
    "# Training loop\n",
    "num_epochs = 5  # Adjust the number of epochs as needed\n",
    "\n",
    "for epoch in range(num_epochs):\n",
    "    model.train()\n",
    "    train_loss = 0.0\n",
    "    \n",
    "    for batch in train_loader:\n",
    "        optimizer.zero_grad()\n",
    "        input_ids = batch[\"input_ids\"].to(device)\n",
    "        attention_mask = batch[\"attention_mask\"].to(device)\n",
    "        labels = batch[\"labels\"].to(device)\n",
    "        #print(labels.shape)\n",
    "        \n",
    "        outputs = model(input_ids=input_ids, attention_mask=attention_mask, labels=labels)\n",
    "        loss = outputs.loss\n",
    "        loss.backward()\n",
    "        optimizer.step()\n",
    "        \n",
    "        train_loss += loss.item()\n",
    "    \n",
    "    train_loss /= len(train_loader)\n",
    "    \n",
    "    # Validation\n",
    "    model.eval()\n",
    "    val_loss = 0.0\n",
    "    val_correct = 0\n",
    "    \n",
    "    with torch.no_grad():\n",
    "        for batch in val_loader:\n",
    "            input_ids = batch[\"input_ids\"].to(device)\n",
    "            attention_mask = batch[\"attention_mask\"].to(device)\n",
    "            labels = batch[\"labels\"].to(device)\n",
    "            \n",
    "            outputs = model(input_ids=input_ids, attention_mask=attention_mask, labels=labels)\n",
    "            loss = outputs.loss\n",
    "            logits = outputs.logits\n",
    "            \n",
    "            val_loss += loss.item()\n",
    "            \n",
    "            predicted_labels = torch.argmax(logits, dim=1)\n",
    "            val_correct += (predicted_labels == labels).sum().item()\n",
    "    \n",
    "    val_loss /= len(val_loader)\n",
    "    val_accuracy = val_correct / len(val_dataset)\n",
    "    \n",
    "    # Print training and validation metrics\n",
    "    print(f\"Epoch {epoch+1}/{num_epochs}\")\n",
    "    print(f\"Train Loss: {train_loss:.4f}\")\n",
    "    print(f\"Validation Loss: {val_loss:.4f}\")\n",
    "    print(f\"Validation Accuracy: {val_accuracy:.4f}\")\n",
    "    print()\n"
   ]
  },
  {
   "cell_type": "code",
   "execution_count": 7,
   "id": "ff3fd8b3",
   "metadata": {},
   "outputs": [
    {
     "data": {
      "application/vnd.jupyter.widget-view+json": {
       "model_id": "4309d48063844086a036cf064f536d9f",
       "version_major": 2,
       "version_minor": 0
      },
      "text/plain": [
       "Downloading vocab.txt: 0.00B [00:00, ?B/s]"
      ]
     },
     "metadata": {},
     "output_type": "display_data"
    }
   ],
   "source": [
    "tokenizer = BertTokenizer.from_pretrained(\n",
    "    'bert-base-uncased',\n",
    "    do_lower_case = True\n",
    "    )"
   ]
  },
  {
   "cell_type": "code",
   "execution_count": 8,
   "id": "b3cf42b5",
   "metadata": {},
   "outputs": [
    {
     "name": "stdout",
     "output_type": "stream",
     "text": [
      "╒════════════╤═════════════╕\n",
      "│ Tokens     │   Token IDs │\n",
      "╞════════════╪═════════════╡\n",
      "│ the        │        1996 │\n",
      "├────────────┼─────────────┤\n",
      "│ echo       │        9052 │\n",
      "├────────────┼─────────────┤\n",
      "│ time       │        2051 │\n",
      "├────────────┼─────────────┤\n",
      "│ is         │        2003 │\n",
      "├────────────┼─────────────┤\n",
      "│ 107        │       10550 │\n",
      "├────────────┼─────────────┤\n",
      "│ .          │        1012 │\n",
      "├────────────┼─────────────┤\n",
      "│ 0          │        1014 │\n",
      "├────────────┼─────────────┤\n",
      "│ ms         │        5796 │\n",
      "├────────────┼─────────────┤\n",
      "│ .          │        1012 │\n",
      "├────────────┼─────────────┤\n",
      "│ the        │        1996 │\n",
      "├────────────┼─────────────┤\n",
      "│ repetition │       23318 │\n",
      "├────────────┼─────────────┤\n",
      "│ time       │        2051 │\n",
      "├────────────┼─────────────┤\n",
      "│ is         │        2003 │\n",
      "├────────────┼─────────────┤\n",
      "│ 1300       │       19527 │\n",
      "├────────────┼─────────────┤\n",
      "│ .          │        1012 │\n",
      "├────────────┼─────────────┤\n",
      "│ 0          │        1014 │\n",
      "├────────────┼─────────────┤\n",
      "│ ms         │        5796 │\n",
      "├────────────┼─────────────┤\n",
      "│ .          │        1012 │\n",
      "╘════════════╧═════════════╛\n"
     ]
    }
   ],
   "source": [
    "def print_rand_sentence():\n",
    "  '''Displays the tokens and respective IDs of a random text sample'''\n",
    "  index = random.randint(0, len(texts)-1)\n",
    "  table = np.array([tokenizer.tokenize(texts[index]), \n",
    "                    tokenizer.convert_tokens_to_ids(tokenizer.tokenize(texts[index]))]).T\n",
    "  print(tabulate(table,\n",
    "                 headers = ['Tokens', 'Token IDs'],\n",
    "                 tablefmt = 'fancy_grid'))\n",
    "\n",
    "print_rand_sentence()"
   ]
  },
  {
   "cell_type": "code",
   "execution_count": null,
   "id": "d21842b4",
   "metadata": {},
   "outputs": [],
   "source": []
  }
 ],
 "metadata": {
  "kernelspec": {
   "display_name": "Python 3 (ipykernel)",
   "language": "python",
   "name": "python3"
  },
  "language_info": {
   "codemirror_mode": {
    "name": "ipython",
    "version": 3
   },
   "file_extension": ".py",
   "mimetype": "text/x-python",
   "name": "python",
   "nbconvert_exporter": "python",
   "pygments_lexer": "ipython3",
   "version": "3.8.10"
  }
 },
 "nbformat": 4,
 "nbformat_minor": 5
}
